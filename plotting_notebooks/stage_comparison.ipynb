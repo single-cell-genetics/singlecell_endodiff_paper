{
 "cells": [
  {
   "cell_type": "code",
   "execution_count": 15,
   "metadata": {},
   "outputs": [],
   "source": [
    "suppressWarnings(suppressPackageStartupMessages(library(dplyr)))\n",
    "suppressWarnings(suppressPackageStartupMessages(library(ggthemes)))"
   ]
  },
  {
   "cell_type": "code",
   "execution_count": 1,
   "metadata": {},
   "outputs": [],
   "source": [
    "# load full list of results sc stages (iPS, mesendo, defendo)\n",
    "res.ips = read.csv(\"/nfs/leia/research/stegle/acuomo/mean/day0/all_expts/allresults.csv\", row.names = 1)\n",
    "res.mes = read.csv(\"/nfs/leia/research/stegle/acuomo/mean/mesendo_est_June20/allresults.csv\", row.names = 1)\n",
    "res.defendo = read.csv(\"/nfs/leia/research/stegle/acuomo/mean/defendo_est_June20/allresults.csv\", row.names = 1)"
   ]
  },
  {
   "cell_type": "code",
   "execution_count": 2,
   "metadata": {},
   "outputs": [],
   "source": [
    "# load lead variant results sc stages (iPS, mesendo, defendo)\n",
    "leads.ips = read.csv(\"/nfs/leia/research/stegle/acuomo/mean/day0/all_expts/leads.csv\", row.names = 1)\n",
    "leads.mes = read.csv(\"/nfs/leia/research/stegle/acuomo/mean/mesendo_est_June20/leads.csv\", row.names = 1)\n",
    "leads.defendo = read.csv(\"/nfs/leia/research/stegle/acuomo/mean/defendo_est_June20/leads.csv\", row.names = 1)"
   ]
  },
  {
   "cell_type": "code",
   "execution_count": 3,
   "metadata": {},
   "outputs": [
    {
     "data": {
      "text/html": [
       "1833"
      ],
      "text/latex": [
       "1833"
      ],
      "text/markdown": [
       "1833"
      ],
      "text/plain": [
       "[1] 1833"
      ]
     },
     "metadata": {},
     "output_type": "display_data"
    }
   ],
   "source": [
    "leads.ips.sign = leads.ips[leads.ips$global_corr_p_value < 0.1,]\n",
    "nrow(leads.ips.sign)"
   ]
  },
  {
   "cell_type": "code",
   "execution_count": 4,
   "metadata": {},
   "outputs": [
    {
     "data": {
      "text/html": [
       "1702"
      ],
      "text/latex": [
       "1702"
      ],
      "text/markdown": [
       "1702"
      ],
      "text/plain": [
       "[1] 1702"
      ]
     },
     "metadata": {},
     "output_type": "display_data"
    }
   ],
   "source": [
    "leads.mes.sign = leads.mes[leads.mes$global_corr_p_value < 0.1,]\n",
    "nrow(leads.mes.sign)"
   ]
  },
  {
   "cell_type": "code",
   "execution_count": 5,
   "metadata": {},
   "outputs": [
    {
     "data": {
      "text/html": [
       "1342"
      ],
      "text/latex": [
       "1342"
      ],
      "text/markdown": [
       "1342"
      ],
      "text/plain": [
       "[1] 1342"
      ]
     },
     "metadata": {},
     "output_type": "display_data"
    }
   ],
   "source": [
    "leads.defendo.sign = leads.defendo[leads.defendo$global_corr_p_value < 0.1,]\n",
    "nrow(leads.defendo.sign)"
   ]
  },
  {
   "cell_type": "code",
   "execution_count": 6,
   "metadata": {},
   "outputs": [],
   "source": [
    "RankAndKeepTop <- function(leads){\n",
    "    leads1 = leads[order(leads$global_corr_p_value),]\n",
    "    leads2 = leads1[-which(duplicated(leads1$feature)),]  \n",
    "    leads2\n",
    "}"
   ]
  },
  {
   "cell_type": "code",
   "execution_count": 9,
   "metadata": {},
   "outputs": [
    {
     "data": {
      "text/html": [
       "468"
      ],
      "text/latex": [
       "468"
      ],
      "text/markdown": [
       "468"
      ],
      "text/plain": [
       "[1] 468"
      ]
     },
     "metadata": {},
     "output_type": "display_data"
    },
    {
     "data": {
      "text/html": [
       "182"
      ],
      "text/latex": [
       "182"
      ],
      "text/markdown": [
       "182"
      ],
      "text/plain": [
       "[1] 182"
      ]
     },
     "metadata": {},
     "output_type": "display_data"
    },
    {
     "data": {
      "text/html": [
       "287"
      ],
      "text/latex": [
       "287"
      ],
      "text/markdown": [
       "287"
      ],
      "text/plain": [
       "[1] 287"
      ]
     },
     "metadata": {},
     "output_type": "display_data"
    },
    {
     "data": {
      "text/html": [
       "469"
      ],
      "text/latex": [
       "469"
      ],
      "text/markdown": [
       "469"
      ],
      "text/plain": [
       "[1] 469"
      ]
     },
     "metadata": {},
     "output_type": "display_data"
    },
    {
     "data": {
      "text/html": [
       "681"
      ],
      "text/latex": [
       "681"
      ],
      "text/markdown": [
       "681"
      ],
      "text/plain": [
       "[1] 681"
      ]
     },
     "metadata": {},
     "output_type": "display_data"
    }
   ],
   "source": [
    "### inner join significant sc iPS leads, all results from sc mesendo leads\n",
    "leads.ips.in.me = left_join(leads.ips.sign, res.mes, by = c(\"snp_id\",\"feature\"), \n",
    "                            suffix = c(\".ips\",\".me\"))\n",
    "# nrow(leads.ips.in.me)\n",
    "leads.ips.in.me = RankAndKeepTop(leads.ips.in.me)\n",
    "# nrow(leads.ips.in.me)\n",
    "### inner join significant sc iPS leads and mesenso, all results from sc defendo leads\n",
    "leads.ips.in.me.in.de = left_join(leads.ips.in.me, res.defendo, by = c(\"snp_id\",\"feature\",\"ensembl_gene_id\"))\n",
    "# colnames(leads.ips.in.me.in.de)\n",
    "# nrow(leads.ips.in.me.in.de)\n",
    "leads.ips.in.me.in.de = RankAndKeepTop(leads.ips.in.me.in.de)\n",
    "# nrow(leads.ips.in.me.in.de)\n",
    "ips = leads.ips.in.me.in.de\n",
    "ips$p_value.de = ips$p_value\n",
    "ips$beta.de = ips$beta\n",
    "ips = ips[!(is.na(ips$p_value.me)) & !(is.na(ips$p_value.de)),]\n",
    "nrow(ips[(ips$p_value.me >= 0.05) & (ips$p_value.de >= 0.05),])\n",
    "nrow(ips[((ips$p_value.me >= 0.05) & (ips$p_value.de < 0.05)),])\n",
    "nrow(ips[((ips$p_value.de >= 0.05) & (ips$p_value.me < 0.05)),])\n",
    "nrow(ips[((ips$p_value.me >= 0.05) & (ips$p_value.de < 0.05)) | ((ips$p_value.me < 0.05) & (ips$p_value.de >= 0.05)),])\n",
    "nrow(ips[(ips$p_value.me < 0.05) & (ips$p_value.de < 0.05),])"
   ]
  },
  {
   "cell_type": "code",
   "execution_count": 10,
   "metadata": {},
   "outputs": [
    {
     "data": {
      "text/html": [
       "1679"
      ],
      "text/latex": [
       "1679"
      ],
      "text/markdown": [
       "1679"
      ],
      "text/plain": [
       "[1] 1679"
      ]
     },
     "metadata": {},
     "output_type": "display_data"
    },
    {
     "data": {
      "text/html": [
       "455"
      ],
      "text/latex": [
       "455"
      ],
      "text/markdown": [
       "455"
      ],
      "text/plain": [
       "[1] 455"
      ]
     },
     "metadata": {},
     "output_type": "display_data"
    },
    {
     "data": {
      "text/html": [
       "100"
      ],
      "text/latex": [
       "100"
      ],
      "text/markdown": [
       "100"
      ],
      "text/plain": [
       "[1] 100"
      ]
     },
     "metadata": {},
     "output_type": "display_data"
    },
    {
     "data": {
      "text/html": [
       "278"
      ],
      "text/latex": [
       "278"
      ],
      "text/markdown": [
       "278"
      ],
      "text/plain": [
       "[1] 278"
      ]
     },
     "metadata": {},
     "output_type": "display_data"
    },
    {
     "data": {
      "text/html": [
       "378"
      ],
      "text/latex": [
       "378"
      ],
      "text/markdown": [
       "378"
      ],
      "text/plain": [
       "[1] 378"
      ]
     },
     "metadata": {},
     "output_type": "display_data"
    },
    {
     "data": {
      "text/html": [
       "592"
      ],
      "text/latex": [
       "592"
      ],
      "text/markdown": [
       "592"
      ],
      "text/plain": [
       "[1] 592"
      ]
     },
     "metadata": {},
     "output_type": "display_data"
    }
   ],
   "source": [
    "### inner join significant sc mesendo leads, all results from sc iPSC leads\n",
    "leads.me.in.ips = left_join(leads.mes.sign, res.ips, by = c(\"snp_id\",\"feature\"), \n",
    "                            suffix = c(\".me\",\".ips\"))\n",
    "# nrow(leads.me.in.ips)\n",
    "leads.me.in.ips = RankAndKeepTop(leads.me.in.ips)\n",
    "nrow(leads.me.in.ips)\n",
    "# ### inner join significant sc mesendo leads and iPS, all results from sc defendo leads\n",
    "leads.me.in.ips.in.de = left_join(leads.me.in.ips, res.defendo, by = c(\"snp_id\",\"feature\",\"ensembl_gene_id\"))\n",
    "# # nrow(leads.me.in.ips.in.de)\n",
    "leads.me.in.ips.in.de = RankAndKeepTop(leads.me.in.ips.in.de)\n",
    "# # nrow(leads.me.in.ips.in.de)\n",
    "mesendo = leads.me.in.ips.in.de\n",
    "mesendo$p_value.de = mesendo$p_value\n",
    "mesendo$beta.de = mesendo$beta\n",
    "mesendo = mesendo[!(is.na(mesendo$p_value.ips)) & !(is.na(mesendo$p_value.de)),]\n",
    "nrow(mesendo[(mesendo$p_value.ips >= 0.05) & (mesendo$p_value.de >= 0.05),])\n",
    "nrow(mesendo[((mesendo$p_value.ips >= 0.05) & (mesendo$p_value.de < 0.05)),])\n",
    "nrow(mesendo[((mesendo$p_value.de >= 0.05) & (mesendo$p_value.ips < 0.05)),])\n",
    "nrow(mesendo[((mesendo$p_value.ips >= 0.05) & (mesendo$p_value.de < 0.05)) | ((mesendo$p_value.ips < 0.05) & (mesendo$p_value.de >= 0.05)),])\n",
    "nrow(mesendo[(mesendo$p_value.ips < 0.05) & (mesendo$p_value.de < 0.05),])"
   ]
  },
  {
   "cell_type": "code",
   "execution_count": 11,
   "metadata": {},
   "outputs": [
    {
     "data": {
      "text/html": [
       "1322"
      ],
      "text/latex": [
       "1322"
      ],
      "text/markdown": [
       "1322"
      ],
      "text/plain": [
       "[1] 1322"
      ]
     },
     "metadata": {},
     "output_type": "display_data"
    },
    {
     "data": {
      "text/html": [
       "435"
      ],
      "text/latex": [
       "435"
      ],
      "text/markdown": [
       "435"
      ],
      "text/plain": [
       "[1] 435"
      ]
     },
     "metadata": {},
     "output_type": "display_data"
    },
    {
     "data": {
      "text/html": [
       "115"
      ],
      "text/latex": [
       "115"
      ],
      "text/markdown": [
       "115"
      ],
      "text/plain": [
       "[1] 115"
      ]
     },
     "metadata": {},
     "output_type": "display_data"
    },
    {
     "data": {
      "text/html": [
       "138"
      ],
      "text/latex": [
       "138"
      ],
      "text/markdown": [
       "138"
      ],
      "text/plain": [
       "[1] 138"
      ]
     },
     "metadata": {},
     "output_type": "display_data"
    },
    {
     "data": {
      "text/html": [
       "253"
      ],
      "text/latex": [
       "253"
      ],
      "text/markdown": [
       "253"
      ],
      "text/plain": [
       "[1] 253"
      ]
     },
     "metadata": {},
     "output_type": "display_data"
    },
    {
     "data": {
      "text/html": [
       "590"
      ],
      "text/latex": [
       "590"
      ],
      "text/markdown": [
       "590"
      ],
      "text/plain": [
       "[1] 590"
      ]
     },
     "metadata": {},
     "output_type": "display_data"
    }
   ],
   "source": [
    "### inner join significant sc defendo leads, all results from sc iPSC leads\n",
    "leads.de.in.ips = left_join(leads.defendo.sign, res.ips, by = c(\"snp_id\",\"feature\"), \n",
    "                            suffix = c(\".de\",\".ips\"))\n",
    "# nrow(leads.de.in.ips)\n",
    "leads.de.in.ips = RankAndKeepTop(leads.de.in.ips)\n",
    "nrow(leads.de.in.ips)\n",
    "# ### inner join significant sc defendo leads and iPS, all results from sc mesendo leads\n",
    "leads.de.in.ips.in.me = left_join(leads.de.in.ips, res.mes, by = c(\"snp_id\",\"feature\",\"ensembl_gene_id\"))\n",
    "# # nrow(leads.de.in.ips.in.me)\n",
    "leads.de.in.ips.in.me = RankAndKeepTop(leads.de.in.ips.in.me)\n",
    "# # nrow(leads.de.in.ips.in.me)\n",
    "defendo = leads.de.in.ips.in.me\n",
    "defendo$p_value.me = defendo$p_value\n",
    "defendo$beta.me = defendo$beta\n",
    "defendo = defendo[!(is.na(defendo$p_value.ips)) & !(is.na(defendo$p_value.me)),]\n",
    "nrow(defendo[(defendo$p_value.ips >= 0.05) & (defendo$p_value.me >= 0.05),])\n",
    "nrow(defendo[((defendo$p_value.ips >= 0.05) & (defendo$p_value.me < 0.05)),])\n",
    "nrow(defendo[((defendo$p_value.me >= 0.05) & (defendo$p_value.ips < 0.05)),])\n",
    "nrow(defendo[((defendo$p_value.ips >= 0.05) & (defendo$p_value.me < 0.05)) | ((defendo$p_value.ips < 0.05) & (defendo$p_value.me >= 0.05)),])\n",
    "nrow(defendo[(defendo$p_value.ips < 0.05) & (defendo$p_value.me < 0.05),])"
   ]
  },
  {
   "cell_type": "code",
   "execution_count": 44,
   "metadata": {},
   "outputs": [],
   "source": [
    "col_day0 = canva_pal(\"Pool party\")(4)[1]\n",
    "col_day1 = canva_pal(\"Pool party\")(4)[2]\n",
    "col_day2 = canva_pal(\"Pool party\")(4)[3]\n",
    "col_day3 = canva_pal(\"Pool party\")(4)[4]\n",
    "\n",
    "col_ips = canva_pal(\"Modern and clean\")(4)[2]\n",
    "col_mesendo = canva_pal(\"Modern and clean\")(4)[4]\n",
    "col_defendo = canva_pal(\"Warm tones\")(4)[3]\n",
    "\n",
    "# col_ips = canva_pal(\"Vintage charm\")(4)[1]\n",
    "# col_mesendo = canva_pal(\"Vintage charm\")(4)[4]\n",
    "# col_defendo = canva_pal(\"Vintage charm\")(4)[2]\n",
    "\n",
    "# col_ips = canva_pal(\"Pastels\")(4)[1]\n",
    "# col_mesendo = canva_pal(\"Pastels\")(4)[4]\n",
    "# col_defendo = canva_pal(\"Pastels\")(4)[2]\n",
    "\n",
    "# col_ips = \"cornflowerblue\"\n",
    "# col_mesendo = \"forestgreen\"\n",
    "# col_defendo = \"coral\""
   ]
  },
  {
   "cell_type": "code",
   "execution_count": 45,
   "metadata": {},
   "outputs": [
    {
     "data": {
      "image/png": "[encoded data removed]",
      "text/plain": [
       "plot without title"
      ]
     },
     "metadata": {},
     "output_type": "display_data"
    }
   ],
   "source": [
    "options(repr.plot.width = 4, repr.plot.height = 5)\n",
    "opar <- par(lwd = 3)\n",
    "barplot(c(1618,1425,1278), col = \"gray95\", border = c(col_ips, col_mesendo, col_defendo), axes = 3)\n",
    "barplot(c(1150,970,843), col = \"gray82\", border = c(col_ips, col_mesendo, col_defendo), add = T)\n",
    "barplot(c(681,592,590), col = \"gray65\", border = c(col_ips, col_mesendo, col_defendo), add = T)"
   ]
  },
  {
   "cell_type": "code",
   "execution_count": null,
   "metadata": {},
   "outputs": [],
   "source": []
  }
 ],
 "metadata": {
  "kernelspec": {
   "display_name": "R",
   "language": "R",
   "name": "ir"
  },
  "language_info": {
   "codemirror_mode": "r",
   "file_extension": ".r",
   "mimetype": "text/x-r-source",
   "name": "R",
   "pygments_lexer": "r",
   "version": "3.5.1"
  }
 },
 "nbformat": 4,
 "nbformat_minor": 2
}
